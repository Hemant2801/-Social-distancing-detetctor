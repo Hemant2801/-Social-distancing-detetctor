{
 "cells": [
  {
   "cell_type": "markdown",
   "id": "9eb8c1eb",
   "metadata": {},
   "source": [
    "# Social Distance Detection using scipy.spatial and OpenCV\n",
    "# The sparks foundation\n",
    "# Social Distancing detector\n",
    "# Author- Hemant"
   ]
  },
  {
   "cell_type": "markdown",
   "id": "d54b8a2b",
   "metadata": {},
   "source": [
    "# Importing libraries and ssd_mobilenet_v3 configs"
   ]
  },
  {
   "cell_type": "code",
   "execution_count": 1,
   "id": "0ebf82b8",
   "metadata": {},
   "outputs": [],
   "source": [
    "import cv2\n",
    "import matplotlib.pyplot as plt\n",
    "from scipy.spatial import distance"
   ]
  },
  {
   "cell_type": "code",
   "execution_count": 2,
   "id": "6a0fb1fb",
   "metadata": {},
   "outputs": [],
   "source": [
    "frozen = 'frozen_inference_graph.pb'\n",
    "config = 'ssd_mobilenet_v3_large_coco_2020_01_14.pbtxt'\n",
    "features = []\n",
    "model = cv2.dnn_DetectionModel(frozen, config)"
   ]
  },
  {
   "cell_type": "code",
   "execution_count": 3,
   "id": "65622544",
   "metadata": {},
   "outputs": [],
   "source": [
    "label_file = 'labels.txt'\n",
    "with open(label_file, 'rt') as f:\n",
    "    features = f.read().rstrip('\\n').split('\\n')\n",
    "    if features == 'person':\n",
    "        desig = 'person'"
   ]
  },
  {
   "cell_type": "code",
   "execution_count": 4,
   "id": "7bc5e8dc",
   "metadata": {},
   "outputs": [
    {
     "name": "stdout",
     "output_type": "stream",
     "text": [
      "['person', 'bicycle', 'car', 'motorbike', 'aeroplane', 'bus', 'train', 'truck', 'boat', 'traffic light', 'fire hydrant', 'stop sign', 'parking meter', 'bench', 'bird', 'cat', 'dog', 'horse', 'sheep', 'cow', 'elephant', 'bear', 'zebra', 'giraffe', 'backpack', 'umbrella', 'handbag', 'tie', 'suitcase', 'frisbee', 'skis', 'snowboard', 'sports ball', 'kite', 'baseball bat', 'baseball glove', 'skateboard', 'surfboard', 'tennis racket', 'bottle', 'wine glass', 'cup', 'fork', 'knife', 'spoon', 'bowl', 'banana', 'apple', 'sandwich', 'orange', 'broccoli', 'carrot', 'hot dog', 'pizza', 'donut', 'cake', 'chair', 'sofa', 'pottedplant', 'bed', 'diningtable', 'toilet', 'tvmonitor', 'laptop', 'mouse', 'remote', 'keyboard', 'cell phone', 'microwave', 'oven', 'toaster', 'sink', 'refrigerator', 'book', 'clock', 'vase', 'scissors', 'teddy bear', 'hair drier', 'toothbrush']\n"
     ]
    }
   ],
   "source": [
    "print(features)"
   ]
  },
  {
   "cell_type": "code",
   "execution_count": 5,
   "id": "3a74b260",
   "metadata": {},
   "outputs": [],
   "source": [
    "model.setInputSize(320,320)\n",
    "model.setInputScale(1.0/127.5)\n",
    "model.setInputMean((127.5,127.5,127.5))\n",
    "model.setInputSwapRB(True)\n",
    "font_scale = 1\n",
    "font_type = cv2.FONT_HERSHEY_PLAIN\n",
    "rec = 'pedestrians walking.mp4'"
   ]
  },
  {
   "cell_type": "code",
   "execution_count": 6,
   "id": "e159bdd5",
   "metadata": {},
   "outputs": [],
   "source": [
    "ls = []\n",
    "violate = set()\n",
    "cam = cv2.VideoCapture(rec)\n",
    "if not cam.isOpened():\n",
    "    cam = cv2.VideoCapture(rec)\n",
    "    if not cam.isOpened():\n",
    "        print('Error in the file.........')\n",
    "while(True):\n",
    "    ret, frame = cam.read()\n",
    "    frame = cv2.resize(frame, (720, 480), fx = 0, fy = 0, interpolation = cv2.INTER_CUBIC)\n",
    "    classindex, confidence, bbox = model.detect(frame, confThreshold = 0.63)\n",
    "    if len(classindex) != 0:\n",
    "        for classind, conf, box in zip(classindex.flatten(), confidence.flatten(), bbox):\n",
    "            if classind == 1:\n",
    "                ls.append(box)\n",
    "                cv2.rectangle(frame, box, (0, 255, 255), 2)\n",
    "                cv2.putText(frame, features[classind - 1], (box[0] + 10, box[1] + 40), \n",
    "                            font_type, fontScale = font_scale, color = (255, 0, 0), thickness = 3)\n",
    "\n",
    "    cv2.imshow('Frame', frame)\n",
    "    if cv2.waitKey(2) & 0xff == ord('q'):\n",
    "        break\n",
    "cam.release()\n",
    "cv2.destroyAllWindows()"
   ]
  },
  {
   "cell_type": "code",
   "execution_count": 7,
   "id": "5e40a35c",
   "metadata": {},
   "outputs": [],
   "source": [
    "centroid = []\n",
    "min_distance = 50\n",
    "for i in range(len(ls)):\n",
    "    x, y, w, h = ls[i][0], ls[i][1], ls[i][2], ls[i][3]\n",
    "    centroid.append([x, y])\n",
    "\n",
    "dist = distance.cdist(centroid, centroid, metric = 'euclidean')\n",
    "for i in range(0, dist.shape[0]):\n",
    "    for j in range(i + 1, dist.shape[1]):\n",
    "        if dist[i, j] < min_distance:\n",
    "            violate.add(dist[i,j])"
   ]
  },
  {
   "cell_type": "code",
   "execution_count": 8,
   "id": "05270122",
   "metadata": {},
   "outputs": [],
   "source": [
    "cam = cv2.VideoCapture(rec)\n",
    "if not cam.isOpened():\n",
    "    cam = cv2.VideoCapture(rec)\n",
    "    if not cam.isOpened():\n",
    "        print('Error in the file.........')\n",
    "while(True):\n",
    "    ret, frame = cam.read()\n",
    "    frame = cv2.resize(frame, (720, 480), fx = 0, fy = 0, interpolation = cv2.INTER_CUBIC)\n",
    "    classindex, confidence, bbox = model.detect(frame, confThreshold = 0.63)\n",
    "    if len(classindex) > 0:\n",
    "        for (i, (classind, conf, box)) in enumerate(zip(classindex.flatten(), confidence.flatten(), bbox)):\n",
    "            if classind == 1:\n",
    "                color = (0,255, 255)\n",
    "                if i in violate:\n",
    "                    color = (0, 0, 255)\n",
    "                cv2.rectangle(frame, box, color, 3)\n",
    "                cv2.putText(frame, features[classind - 1], (box[0] + 10, box[1] + 40), \n",
    "                                    font_type, fontScale = font_scale, color = (255, 0, 0), thickness = 3)\n",
    "\n",
    "    text = f'Social Distancing Violations: {i}'\n",
    "    cv2.putText(frame, text, (10, frame.shape[0] - 25), font_type, fontScale = font_scale,\n",
    "                color = (0, 50, 255), thickness = 2)\n",
    "\n",
    "    cv2.imshow('Frame', frame)\n",
    "    if cv2.waitKey(2) & 0xff == ord('q'):\n",
    "        break\n",
    "cam.release()\n",
    "cv2.destroyAllWindows()"
   ]
  }
 ],
 "metadata": {
  "kernelspec": {
   "display_name": "Python 3",
   "language": "python",
   "name": "python3"
  },
  "language_info": {
   "codemirror_mode": {
    "name": "ipython",
    "version": 3
   },
   "file_extension": ".py",
   "mimetype": "text/x-python",
   "name": "python",
   "nbconvert_exporter": "python",
   "pygments_lexer": "ipython3",
   "version": "3.8.8"
  }
 },
 "nbformat": 4,
 "nbformat_minor": 5
}
